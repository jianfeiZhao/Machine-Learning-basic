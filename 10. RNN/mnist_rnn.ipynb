{
  "nbformat": 4,
  "nbformat_minor": 0,
  "metadata": {
    "colab": {
      "name": "mnist_rnn.ipynb",
      "provenance": [],
      "authorship_tag": "ABX9TyPoJAXau8ydkKTmEDVB9fog",
      "include_colab_link": true
    },
    "kernelspec": {
      "name": "python3",
      "display_name": "Python 3"
    },
    "accelerator": "GPU"
  },
  "cells": [
    {
      "cell_type": "markdown",
      "metadata": {
        "id": "view-in-github",
        "colab_type": "text"
      },
      "source": [
        "<a href=\"https://colab.research.google.com/github/jianfeiZhao/Machine-Learning-basic/blob/master/mnist_rnn.ipynb\" target=\"_parent\"><img src=\"https://colab.research.google.com/assets/colab-badge.svg\" alt=\"Open In Colab\"/></a>"
      ]
    },
    {
      "cell_type": "code",
      "metadata": {
        "id": "YheNxzY5675k",
        "colab_type": "code",
        "colab": {
          "base_uri": "https://localhost:8080/",
          "height": 301
        },
        "outputId": "7071437e-626a-4c29-e1ef-c48ef9527410"
      },
      "source": [
        "import torch\n",
        "from torch import nn\n",
        "import torchvision.datasets as datasets\n",
        "import torchvision.transforms as transforms\n",
        "import matplotlib.pyplot as plt\n",
        "from torch.utils.data import DataLoader\n",
        "#%matplotlib inline\n",
        "\n",
        "# 超参数定义\n",
        "EPOCH = 1\n",
        "BATCH_SIZE = 64\n",
        "TIME_STEP = 28\n",
        "INPUT_SIZE = 28\n",
        "LR = 0.003\n",
        "\n",
        "# MNIST数据集下载\n",
        "train_data = datasets.MNIST(root='./mnist', train=True, \n",
        "               transform=transforms.ToTensor(),\n",
        "               download = True)\n",
        "test_data = datasets.MNIST(root='./mnist', train=False, \n",
        "               transform=transforms.ToTensor(),\n",
        "               download = False)\n",
        "\n",
        "test_x = test_data.test_data.type(torch.FloatTensor)[:2000] / 255.\n",
        "test_y = test_data.test_labels.numpy()[:2000]\n",
        "\n",
        "print(train_data.train_data.size())\n",
        "print(train_data.train_labels.size())\n",
        "for i in range(6):\n",
        " plt.subplot(1,6,i+1)\n",
        " plt.imshow(train_data.train_data[i].numpy(), cmap='gray')\n",
        "plt.show()"
      ],
      "execution_count": 31,
      "outputs": [
        {
          "output_type": "stream",
          "text": [
            "/usr/local/lib/python3.6/dist-packages/torchvision/datasets/mnist.py:60: UserWarning: test_data has been renamed data\n",
            "  warnings.warn(\"test_data has been renamed data\")\n",
            "/usr/local/lib/python3.6/dist-packages/torchvision/datasets/mnist.py:50: UserWarning: test_labels has been renamed targets\n",
            "  warnings.warn(\"test_labels has been renamed targets\")\n",
            "/usr/local/lib/python3.6/dist-packages/torchvision/datasets/mnist.py:55: UserWarning: train_data has been renamed data\n",
            "  warnings.warn(\"train_data has been renamed data\")\n",
            "/usr/local/lib/python3.6/dist-packages/torchvision/datasets/mnist.py:45: UserWarning: train_labels has been renamed targets\n",
            "  warnings.warn(\"train_labels has been renamed targets\")\n"
          ],
          "name": "stderr"
        },
        {
          "output_type": "stream",
          "text": [
            "torch.Size([60000, 28, 28])\n",
            "torch.Size([60000])\n"
          ],
          "name": "stdout"
        },
        {
          "output_type": "display_data",
          "data": {
            "image/png": "[encoded data removed]",
            "text/plain": [
              "<Figure size 432x288 with 6 Axes>"
            ]
          },
          "metadata": {
            "tags": [],
            "needs_background": "light"
          }
        }
      ]
    },
    {
      "cell_type": "code",
      "metadata": {
        "id": "f3DqBNU68rDB",
        "colab_type": "code",
        "colab": {
          "base_uri": "https://localhost:8080/",
          "height": 393
        },
        "outputId": "440e1ed3-1efe-4530-cf1c-8028cc8f153d"
      },
      "source": [
        "# 使用Dataloader进行分批\n",
        "train_loader = DataLoader(dataset=train_data, batch_size=BATCH_SIZE, shuffle=True)\n",
        "\n",
        "# 定义网络\n",
        "class RNN(nn.Module):\n",
        "    def __init__(self):\n",
        "        super(RNN, self).__init__()\n",
        "        self.rnn = nn.GRU(input_size=INPUT_SIZE, hidden_size=64, num_layers=1, batch_first=True)\n",
        "        self.out = nn.Linear(64, 10) #10个分类\n",
        "\n",
        "    def forward(self, x):\n",
        "        # 前向传播\n",
        "        r_out, _ = self.rnn(x)\n",
        "        # 选择 r_out的最后一个时间步\n",
        "        out = self.out(r_out[:,-1,:])\n",
        "        return out\n",
        "\n",
        "# 设置使用GPU\n",
        "cuda = torch.device('cuda')\n",
        "rnn = RNN()\n",
        "rnn = rnn.cuda()\n",
        "optimizer = torch.optim.Adam(rnn.parameters(), lr=LR)\n",
        "loss_func = nn.CrossEntropyLoss()\n",
        "\n",
        "# 训练&验证\n",
        "for epoch in range(EPOCH):\n",
        "    for step, (b_x, b_y) in enumerate(train_loader):\n",
        "        b_x = b_x.view(-1, 28, 28)\n",
        "        # 前向传播\n",
        "        output = rnn(b_x.cuda())\n",
        "        # 损失函数\n",
        "        loss = loss_func(output, b_y.cuda())\n",
        "        # 后向传播\n",
        "        optimizer.zero_grad()\n",
        "        loss.backward()\n",
        "        optimizer.step()\n",
        "        \n",
        "        if step % 100 == 0:\n",
        "            test_output = rnn(test_x.cuda())\n",
        "            pred_y = torch.max(test_output, 1)[1].data.cpu().numpy()\n",
        "            # 计算准确率\n",
        "            accuracy = float((pred_y == test_y).astype(int).sum()) / float(test_y.size)\n",
        "            print ('Epoch: {}, Step: {}, loss: {}, accuracy: {}'.format(epoch, step, loss, accuracy))\n",
        "\n",
        "# 从测试集选出10个，进行验证\n",
        "test_x = test_x.cuda()\n",
        "test_output = rnn(test_x[:15].view(-1, 28, 28))\n",
        "pred_y = torch.max(test_output, 1)[1].data.cpu().numpy()\n",
        "\n",
        "plt.figure(figsize=(10,4))\n",
        "for i in range(15):\n",
        " plt.subplot(1,15,i+1)\n",
        " plt.imshow(test_data.test_data[i].numpy(), cmap='gray')\n",
        " plt.title('%i' % test_data.test_labels[i], fontsize = 20)\n",
        "plt.show()\n",
        "print('Predict numbers:', pred_y)"
      ],
      "execution_count": 32,
      "outputs": [
        {
          "output_type": "stream",
          "text": [
            "Epoch: 0, Step: 0, loss: 2.3061330318450928, accuracy: 0.096\n",
            "Epoch: 0, Step: 100, loss: 1.0521200895309448, accuracy: 0.6115\n",
            "Epoch: 0, Step: 200, loss: 0.6419443488121033, accuracy: 0.775\n",
            "Epoch: 0, Step: 300, loss: 0.3378727436065674, accuracy: 0.8595\n",
            "Epoch: 0, Step: 400, loss: 0.17030996084213257, accuracy: 0.909\n",
            "Epoch: 0, Step: 500, loss: 0.2688400447368622, accuracy: 0.9245\n",
            "Epoch: 0, Step: 600, loss: 0.3709074854850769, accuracy: 0.928\n",
            "Epoch: 0, Step: 700, loss: 0.03351617604494095, accuracy: 0.931\n",
            "Epoch: 0, Step: 800, loss: 0.1250842809677124, accuracy: 0.9395\n",
            "Epoch: 0, Step: 900, loss: 0.16234609484672546, accuracy: 0.9535\n"
          ],
          "name": "stdout"
        },
        {
          "output_type": "stream",
          "text": [
            "/usr/local/lib/python3.6/dist-packages/torchvision/datasets/mnist.py:60: UserWarning: test_data has been renamed data\n",
            "  warnings.warn(\"test_data has been renamed data\")\n",
            "/usr/local/lib/python3.6/dist-packages/torchvision/datasets/mnist.py:50: UserWarning: test_labels has been renamed targets\n",
            "  warnings.warn(\"test_labels has been renamed targets\")\n"
          ],
          "name": "stderr"
        },
        {
          "output_type": "display_data",
          "data": {
            "image/png": "[encoded data removed]",
            "text/plain": [
              "<Figure size 720x288 with 15 Axes>"
            ]
          },
          "metadata": {
            "tags": [],
            "needs_background": "light"
          }
        },
        {
          "output_type": "stream",
          "text": [
            "Predict numbers: [7 2 1 0 4 1 4 9 5 9 0 6 9 0 1]\n"
          ],
          "name": "stdout"
        }
      ]
    }
  ]
}
