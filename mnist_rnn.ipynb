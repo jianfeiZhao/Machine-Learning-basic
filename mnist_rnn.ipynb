{
  "nbformat": 4,
  "nbformat_minor": 0,
  "metadata": {
    "colab": {
      "name": "mnist_rnn.ipynb",
      "provenance": [],
      "authorship_tag": "ABX9TyNrAjoKHyU5RvLCXzmocGTr",
      "include_colab_link": true
    },
    "kernelspec": {
      "name": "python3",
      "display_name": "Python 3"
    },
    "accelerator": "GPU"
  },
  "cells": [
    {
      "cell_type": "markdown",
      "metadata": {
        "id": "view-in-github",
        "colab_type": "text"
      },
      "source": [
        "<a href=\"https://colab.research.google.com/github/jianfeiZhao/Machine-Learning-basic/blob/master/mnist_rnn.ipynb\" target=\"_parent\"><img src=\"https://colab.research.google.com/assets/colab-badge.svg\" alt=\"Open In Colab\"/></a>"
      ]
    },
    {
      "cell_type": "code",
      "metadata": {
        "id": "YheNxzY5675k",
        "colab_type": "code",
        "colab": {
          "base_uri": "https://localhost:8080/",
          "height": 467
        },
        "outputId": "92ea948c-5977-4f39-9d99-cff70c3f38db"
      },
      "source": [
        "import torch\n",
        "from torch import nn\n",
        "import torchvision.datasets as datasets\n",
        "import torchvision.transforms as transforms\n",
        "import matplotlib.pyplot as plt\n",
        "from torch.utils.data import DataLoader\n",
        "#%matplotlib inline\n",
        "\n",
        "# 超参数定义\n",
        "EPOCH = 1\n",
        "BATCH_SIZE = 64\n",
        "TIME_STEP = 28\n",
        "INPUT_SIZE = 28\n",
        "LR = 0.005\n",
        "\n",
        "# MNIST数据集下载\n",
        "train_data = datasets.MNIST(root='./mnist', train=True, \n",
        "               transform=transforms.ToTensor(),\n",
        "               download = True)\n",
        "test_data = datasets.MNIST(root='./mnist', train=False, \n",
        "               transform=transforms.ToTensor(),\n",
        "               download = False)\n",
        "\n",
        "test_x = test_data.test_data.type(torch.FloatTensor)[:2000] / 255.\n",
        "test_y = test_data.test_labels.numpy()[:2000]\n",
        "\n",
        "print(train_data.train_data.size())\n",
        "print(train_data.train_labels.size())\n",
        "plt.imshow(train_data.train_data[0].numpy(), cmap='gray')\n",
        "plt.show()"
      ],
      "execution_count": 10,
      "outputs": [
        {
          "output_type": "stream",
          "text": [
            "torch.Size([60000, 28, 28])\n",
            "torch.Size([60000])\n"
          ],
          "name": "stdout"
        },
        {
          "output_type": "stream",
          "text": [
            "/usr/local/lib/python3.6/dist-packages/torchvision/datasets/mnist.py:60: UserWarning: test_data has been renamed data\n",
            "  warnings.warn(\"test_data has been renamed data\")\n",
            "/usr/local/lib/python3.6/dist-packages/torchvision/datasets/mnist.py:50: UserWarning: test_labels has been renamed targets\n",
            "  warnings.warn(\"test_labels has been renamed targets\")\n",
            "/usr/local/lib/python3.6/dist-packages/torchvision/datasets/mnist.py:55: UserWarning: train_data has been renamed data\n",
            "  warnings.warn(\"train_data has been renamed data\")\n",
            "/usr/local/lib/python3.6/dist-packages/torchvision/datasets/mnist.py:45: UserWarning: train_labels has been renamed targets\n",
            "  warnings.warn(\"train_labels has been renamed targets\")\n"
          ],
          "name": "stderr"
        },
        {
          "output_type": "display_data",
          "data": {
            "image/png": "[encoded data removed]",
            "text/plain": [
              "<Figure size 432x288 with 1 Axes>"
            ]
          },
          "metadata": {
            "tags": [],
            "needs_background": "light"
          }
        }
      ]
    },
    {
      "cell_type": "code",
      "metadata": {
        "id": "f3DqBNU68rDB",
        "colab_type": "code",
        "colab": {
          "base_uri": "https://localhost:8080/",
          "height": 235
        },
        "outputId": "eda47eb2-b16d-4f51-ba79-f375b10c9ef4"
      },
      "source": [
        "# 使用Dataloader进行分批\n",
        "train_loader = DataLoader(dataset=train_data, batch_size=BATCH_SIZE, shuffle=True)\n",
        "\n",
        "# 定义网络\n",
        "class RNN(nn.Module):\n",
        "    def __init__(self):\n",
        "        super(RNN, self).__init__()\n",
        "        self.rnn = nn.GRU(input_size=INPUT_SIZE, hidden_size=64, num_layers=1, batch_first=True)\n",
        "        self.out = nn.Linear(64, 10) #10个分类\n",
        "\n",
        "    def forward(self, x):\n",
        "        # 前向传播\n",
        "        r_out, _ = self.rnn(x)\n",
        "        # 选择 r_out的最后一个时间步\n",
        "        out = self.out(r_out[:,-1,:])\n",
        "        return out\n",
        "\n",
        "# 设置使用GPU\n",
        "cuda = torch.device('cuda')\n",
        "rnn = RNN()\n",
        "rnn = rnn.cuda()\n",
        "optimizer = torch.optim.Adam(rnn.parameters(), lr=LR)\n",
        "loss_func = nn.CrossEntropyLoss()\n",
        "\n",
        "# 训练&验证\n",
        "for epoch in range(EPOCH):\n",
        "    for step, (b_x, b_y) in enumerate(train_loader):\n",
        "        b_x = b_x.view(-1, 28, 28)\n",
        "        # 前向传播\n",
        "        output = rnn(b_x.cuda())\n",
        "        # 损失函数\n",
        "        loss = loss_func(output, b_y.cuda())\n",
        "        # 后向传播\n",
        "        optimizer.zero_grad()\n",
        "        loss.backward()\n",
        "        optimizer.step()\n",
        "        \n",
        "        if step % 100 == 0:\n",
        "            test_output = rnn(test_x.cuda())\n",
        "            pred_y = torch.max(test_output, 1)[1].data.cpu().numpy()\n",
        "            # 计算准确率\n",
        "            accuracy = float((pred_y == test_y).astype(int).sum()) / float(test_y.size)\n",
        "            print ('Epoch: {}, Step: {}, loss: {}, accuracy: {}'.format(epoch, step, loss, accuracy))\n",
        "\n",
        "# 从测试集选出10个，进行验证\n",
        "test_x = test_x.cuda()\n",
        "test_output = rnn(test_x[:20].view(-1, 28, 28))\n",
        "pred_y = torch.max(test_output, 1)[1].data.cpu().numpy()\n",
        "print('Predict number:', pred_y)\n",
        "print('Real number:', test_y[:20])\n"
      ],
      "execution_count": 11,
      "outputs": [
        {
          "output_type": "stream",
          "text": [
            "Epoch: 0, Step: 0, loss: 2.2882540225982666, accuracy: 0.1025\n",
            "Epoch: 0, Step: 100, loss: 0.6952654123306274, accuracy: 0.6985\n",
            "Epoch: 0, Step: 200, loss: 0.6019979119300842, accuracy: 0.821\n",
            "Epoch: 0, Step: 300, loss: 0.24278083443641663, accuracy: 0.886\n",
            "Epoch: 0, Step: 400, loss: 0.1895260512828827, accuracy: 0.914\n",
            "Epoch: 0, Step: 500, loss: 0.1557246446609497, accuracy: 0.928\n",
            "Epoch: 0, Step: 600, loss: 0.06605669111013412, accuracy: 0.9435\n",
            "Epoch: 0, Step: 700, loss: 0.06851916015148163, accuracy: 0.9545\n",
            "Epoch: 0, Step: 800, loss: 0.2777605354785919, accuracy: 0.938\n",
            "Epoch: 0, Step: 900, loss: 0.22770342230796814, accuracy: 0.9415\n",
            "Predict number: [7 2 1 0 4 1 4 9 6 9 0 6 9 0 1 5 9 7 3 4]\n",
            "Real number: [7 2 1 0 4 1 4 9 5 9 0 6 9 0 1 5 9 7 3 4]\n"
          ],
          "name": "stdout"
        }
      ]
    },
    {
      "cell_type": "code",
      "metadata": {
        "id": "B6l0Ud3G8-rY",
        "colab_type": "code",
        "colab": {}
      },
      "source": [
        ""
      ],
      "execution_count": 0,
      "outputs": []
    }
  ]
}