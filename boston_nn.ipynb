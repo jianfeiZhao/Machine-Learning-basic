{
  "nbformat": 4,
  "nbformat_minor": 0,
  "metadata": {
    "colab": {
      "name": "boston_nn.ipynb",
      "provenance": [],
      "authorship_tag": "ABX9TyNjfgO6ijimHFKPiFRnVGqt",
      "include_colab_link": true
    },
    "kernelspec": {
      "name": "python3",
      "display_name": "Python 3"
    }
  },
  "cells": [
    {
      "cell_type": "markdown",
      "metadata": {
        "id": "view-in-github",
        "colab_type": "text"
      },
      "source": [
        "<a href=\"https://colab.research.google.com/github/jianfeiZhao/Machine-Learning-basic/blob/master/boston_nn.ipynb\" target=\"_parent\"><img src=\"https://colab.research.google.com/assets/colab-badge.svg\" alt=\"Open In Colab\"/></a>"
      ]
    },
    {
      "cell_type": "code",
      "metadata": {
        "id": "VCjLLd7qI75Z",
        "colab_type": "code",
        "colab": {}
      },
      "source": [
        "import numpy as np\n",
        "from sklearn.datasets import load_boston\n",
        "\n",
        "# load data\n",
        "data = load_boston()\n",
        "X = data['data']\n",
        "y = data['target']"
      ],
      "execution_count": 0,
      "outputs": []
    },
    {
      "cell_type": "code",
      "metadata": {
        "id": "J0mt1kaBKg1i",
        "colab_type": "code",
        "colab": {}
      },
      "source": [
        "y = y.reshape(y.shape[0],1)\n",
        "\n",
        "# normalize data\n",
        "X = (X - np.mean(X,axis=0))/np.std(X,axis=0)\n",
        "\n",
        "n_features = X.shape[1]\n",
        "n_hidden = 10\n",
        "w1 = np.random.randn(n_features, n_hidden)\n",
        "b1 = np.zeros(n_hidden)\n",
        "w2 = np.random.randn(n_hidden, 1)\n",
        "b2 = np.zeros(1)\n",
        "\n",
        "# relu function\n",
        "def Relu(x):\n",
        "  result = np.where(x<0, 0, x)\n",
        "  return result\n",
        "\n",
        "def Linear(X, w, b):\n",
        "  y = X.dot(w) + b\n",
        "  return y\n",
        "\n",
        "def MSE_loss(y, y_hat):\n",
        "  return np.mean(np.square(y_hat-y))"
      ],
      "execution_count": 0,
      "outputs": []
    },
    {
      "cell_type": "code",
      "metadata": {
        "id": "w6tXh7edOuQQ",
        "colab_type": "code",
        "outputId": "48c07a26-a22e-487a-bd62-36c64e491667",
        "colab": {
          "base_uri": "https://localhost:8080/",
          "height": 886
        }
      },
      "source": [
        "from matplotlib import pyplot as plt\n",
        "\n",
        "epoch = 5000\n",
        "learning_rate = 1e-7\n",
        "loss = []\n",
        "\n",
        "for t in range(epoch):\n",
        "  # forward pass\n",
        "  l1 = Linear(X, w1, b1)\n",
        "  s1 = Relu(l1)\n",
        "  y_pred = Linear(s1, w2, b2)\n",
        "\n",
        "  # calculate loss\n",
        "  loss.append(MSE_loss(y, y_pred))\n",
        "\n",
        "  # backward pass\n",
        "  grad_y_pred = 2.0*(y_pred-y)\n",
        "  grad_w2 = s1.T.dot(grad_y_pred)\n",
        "  grad_temp_relu = grad_y_pred.dot(w2.T)\n",
        "  grad_temp_relu[l1<0] = 0\n",
        "  grad_w1 = X.T.dot(grad_temp_relu)\n",
        "\n",
        "  # weight update\n",
        "  w1 = w1 - learning_rate * grad_w1\n",
        "  w2 = w2 - learning_rate * grad_w2\n",
        "\n",
        "plt.plot(np.arange(epoch), loss)\n",
        "plt.show()\n",
        "\n",
        "print('w1={}\\n w2={}'.format(w1,w2))"
      ],
      "execution_count": 0,
      "outputs": [
        {
          "output_type": "display_data",
          "data": {
            "image/png": "[encoded data removed]",
            "text/plain": [
              "<Figure size 432x288 with 1 Axes>"
            ]
          },
          "metadata": {
            "tags": [],
            "needs_background": "light"
          }
        },
        {
          "output_type": "stream",
          "text": [
            "w1=[[ 0.12218654  0.89181467  0.23369821  0.81320964 -0.89872946 -1.08661881\n",
            "  -0.35855213  0.16576709  0.74374419  0.93587665]\n",
            " [-0.58496469  1.04939072  0.71750605  1.60884873 -0.19017604 -3.68504611\n",
            "  -0.42115187 -0.7233334   0.4510918  -0.0688662 ]\n",
            " [-0.60537081 -2.29341684  0.11703852  0.89888797  1.08546513  0.70496849\n",
            "  -0.75173106 -1.30099754 -0.67122341 -0.2246911 ]\n",
            " [-0.45712061 -1.42162395 -0.44316193 -0.32086216 -1.27180579  0.68300734\n",
            "  -1.51539064  0.08637286  0.60105296 -0.63263236]\n",
            " [-0.37476091  0.10187689  0.33169472 -2.51829849 -0.27953513  0.94195273\n",
            "  -0.0589991  -2.24514176 -0.28049716 -1.21356862]\n",
            " [ 0.08460369 -1.24514233 -1.25358253  0.25172915 -0.04559735 -0.22903621\n",
            "  -1.62780587  2.48791634 -1.30494491 -0.54650883]\n",
            " [ 1.68197229  0.53344237  0.02502483  0.45786091  0.53497188  0.25611113\n",
            "  -0.17196896  0.34851486  0.02542793 -0.74872885]\n",
            " [ 0.10777582 -0.13670149 -0.35952424 -0.52736777  0.43304304 -1.10371669\n",
            "  -0.44715442  0.30241823 -1.50572399 -0.26871397]\n",
            " [ 0.11428112  1.11896657 -0.3245066   0.89814614 -0.7696126   0.17761631\n",
            "  -1.95464772 -0.44850462 -0.73306671  0.3180532 ]\n",
            " [-0.56803156 -0.86187783  0.53228611 -0.51219218  1.72033572 -0.20907625\n",
            "   0.88877292 -2.24989242 -0.53549722 -0.32356521]\n",
            " [-1.81365771 -0.10759105 -1.54642041 -0.08951895 -0.82742204  1.21906548\n",
            "  -0.96647027 -2.33526405 -0.04642765  1.56574938]\n",
            " [-0.41197973 -1.938564    0.65276419  0.77014208 -0.09110883  0.56595993\n",
            "  -1.06417985  0.20555543  0.08998711  0.30594819]\n",
            " [ 0.07895215  0.69839979 -1.5916165  -0.94700047 -0.64248186 -0.58327155\n",
            "  -2.81510735 -1.10548549  1.70779836 -0.67865203]]\n",
            " w2=[[ 0.05326534]\n",
            " [ 0.67450215]\n",
            " [-0.30652195]\n",
            " [-0.14901097]\n",
            " [ 0.42595568]\n",
            " [ 3.42920916]\n",
            " [ 1.28485116]\n",
            " [ 2.74213164]\n",
            " [-0.19375652]\n",
            " [ 1.66660786]]\n"
          ],
          "name": "stdout"
        }
      ]
    }
  ]
}