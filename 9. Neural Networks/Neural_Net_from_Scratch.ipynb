{
  "nbformat": 4,
  "nbformat_minor": 0,
  "metadata": {
    "colab": {
      "name": "Neural Net from Scratch.ipynb",
      "provenance": [],
      "authorship_tag": "ABX9TyOsN9RwK3Zz+U9utx0lEp3s",
      "include_colab_link": true
    },
    "kernelspec": {
      "name": "python3",
      "display_name": "Python 3"
    }
  },
  "cells": [
    {
      "cell_type": "markdown",
      "metadata": {
        "id": "view-in-github",
        "colab_type": "text"
      },
      "source": [
        "<a href=\"https://colab.research.google.com/github/jianfeiZhao/Machine-Learning-basic/blob/master/Neural_Net_from_Scratch.ipynb\" target=\"_parent\"><img src=\"https://colab.research.google.com/assets/colab-badge.svg\" alt=\"Open In Colab\"/></a>"
      ]
    },
    {
      "cell_type": "code",
      "metadata": {
        "id": "xqUBE_yqfND9",
        "outputId": "904021ab-8e3b-47f9-cee1-298a25fbffdc",
        "colab": {
          "base_uri": "https://localhost:8080/",
          "height": 35
        }
      },
      "source": [
        "import torch\n",
        "from torchvision import datasets\n",
        "import matplotlib.pyplot as plt\n",
        "\n",
        "mnist = datasets.MNIST('./data', download=True)\n",
        "\n",
        "threes = mnist.data[(mnist.targets == 3)]/255.0\n",
        "sevens = mnist.data[(mnist.targets == 7)]/255.0\n",
        "len(threes), len(sevens)"
      ],
      "execution_count": 69,
      "outputs": [
        {
          "output_type": "execute_result",
          "data": {
            "text/plain": [
              "(6131, 6265)"
            ]
          },
          "metadata": {
            "tags": []
          },
          "execution_count": 69
        }
      ]
    },
    {
      "cell_type": "code",
      "metadata": {
        "id": "b8tKI-EifheQ",
        "outputId": "0caa33e8-275a-49d0-f1b9-65f02911c515",
        "colab": {
          "base_uri": "https://localhost:8080/",
          "height": 487
        }
      },
      "source": [
        "def show_image(img):\n",
        "  plt.imshow(img)\n",
        "  plt.xticks([])\n",
        "  plt.yticks([])\n",
        "  plt.show()\n",
        "  \n",
        "show_image(threes[3])\n",
        "show_image(sevens[8])"
      ],
      "execution_count": 70,
      "outputs": [
        {
          "output_type": "display_data",
          "data": {
            "image/png": "[encoded data removed]",
            "text/plain": [
              "<Figure size 432x288 with 1 Axes>"
            ]
          },
          "metadata": {
            "tags": []
          }
        },
        {
          "output_type": "display_data",
          "data": {
            "image/png": "[encoded data removed]",
            "text/plain": [
              "<Figure size 432x288 with 1 Axes>"
            ]
          },
          "metadata": {
            "tags": []
          }
        }
      ]
    },
    {
      "cell_type": "code",
      "metadata": {
        "id": "92q6mW-EgDYb",
        "outputId": "63b42299-5cf7-4406-d218-a33bf47752d9",
        "colab": {
          "base_uri": "https://localhost:8080/",
          "height": 53
        }
      },
      "source": [
        "print(threes.shape, sevens.shape)\n",
        "# Combine them into a single data set to feed into our neural network.\n",
        "combined_data = torch.cat([threes, sevens])\n",
        "combined_data.shape"
      ],
      "execution_count": 71,
      "outputs": [
        {
          "output_type": "stream",
          "text": [
            "torch.Size([6131, 28, 28]) torch.Size([6265, 28, 28])\n"
          ],
          "name": "stdout"
        },
        {
          "output_type": "execute_result",
          "data": {
            "text/plain": [
              "torch.Size([12396, 28, 28])"
            ]
          },
          "metadata": {
            "tags": []
          },
          "execution_count": 71
        }
      ]
    },
    {
      "cell_type": "code",
      "metadata": {
        "id": "aPJfbK7jhX_T",
        "outputId": "4ee7d5d3-1149-4893-a201-4c300406fd04",
        "colab": {
          "base_uri": "https://localhost:8080/",
          "height": 35
        }
      },
      "source": [
        "# flatten the images in the dataset -> input for the NN\n",
        "flat_imgs = combined_data.view((-1, 28*28))\n",
        "\n",
        "flat_imgs.shape"
      ],
      "execution_count": 72,
      "outputs": [
        {
          "output_type": "execute_result",
          "data": {
            "text/plain": [
              "torch.Size([12396, 784])"
            ]
          },
          "metadata": {
            "tags": []
          },
          "execution_count": 72
        }
      ]
    },
    {
      "cell_type": "code",
      "metadata": {
        "id": "Ut2QC3cehzsr",
        "outputId": "a88fd937-3dc4-4867-cc4a-3aa9dc3666da",
        "colab": {
          "base_uri": "https://localhost:8080/",
          "height": 35
        }
      },
      "source": [
        "# create labels corresponding to the images in the combined dataset\n",
        "target = torch.tensor([1]*len(threes)+[2]*len(sevens))\n",
        "target.shape"
      ],
      "execution_count": 73,
      "outputs": [
        {
          "output_type": "execute_result",
          "data": {
            "text/plain": [
              "torch.Size([12396])"
            ]
          },
          "metadata": {
            "tags": []
          },
          "execution_count": 73
        }
      ]
    },
    {
      "cell_type": "markdown",
      "metadata": {
        "id": "sFUhn7q4ij0G"
      },
      "source": [
        "To train your neural network (2 layers), follow these steps."
      ]
    },
    {
      "cell_type": "code",
      "metadata": {
        "id": "GMOJAEFkiLqF",
        "outputId": "f2455f80-0d05-469a-d8b1-2b0c620f8ef3",
        "colab": {
          "base_uri": "https://localhost:8080/",
          "height": 199
        }
      },
      "source": [
        "# Step 1: Building the model\n",
        "def sigmoid(x): return 1/(1+torch.exp(-x))\n",
        "\n",
        "def simple_nn(data, weights, bias): return sigmoid((data@weights) + bias)\n",
        "\n",
        "# Step 2: Defining the loss\n",
        "def error(pred, target): return ((pred-target)**2).mean()\n",
        "\n",
        "# Step 3: Initialize the weight values \n",
        "w1 = torch.randn((flat_imgs.shape[1], flat_imgs.shape[1]), requires_grad=True)\n",
        "w2 = torch.randn((flat_imgs.shape[1], 1), requires_grad=True)\n",
        "b = torch.randn((1, 1), requires_grad=True)\n",
        "plot = []\n",
        "\n",
        "# Step 4: Update the weights\n",
        "for i in range(100):\n",
        "  pred1 = simple_nn(flat_imgs, w1, b)\n",
        "  pred = simple_nn(pred1, w2, b)\n",
        "  loss = error(pred, target.unsqueeze(1))\n",
        "  loss.backward()\n",
        "\n",
        "  w1.data -= 0.05*w1.grad.data\n",
        "  w2.data -= 0.05*w2.grad.data\n",
        "  b.data -= 0.05*b.grad.data\n",
        " \n",
        "  w1.grad.zero_()\n",
        "  w2.grad.zero_()\n",
        "  b.grad.zero_()\n",
        "  \n",
        "  if i%10 == 0:\n",
        "    plot.append(loss.item())\n",
        "    print(\"Loss: \", loss.item())"
      ],
      "execution_count": 74,
      "outputs": [
        {
          "output_type": "stream",
          "text": [
            "Loss:  2.2761099338531494\n",
            "Loss:  1.9605647325515747\n",
            "Loss:  1.273838996887207\n",
            "Loss:  0.8304148316383362\n",
            "Loss:  0.6736728549003601\n",
            "Loss:  0.6051331758499146\n",
            "Loss:  0.5698687434196472\n",
            "Loss:  0.5499998927116394\n",
            "Loss:  0.5381757616996765\n",
            "Loss:  0.531075119972229\n"
          ],
          "name": "stdout"
        }
      ]
    },
    {
      "cell_type": "code",
      "metadata": {
        "id": "SBcU4NTviYUH",
        "outputId": "1e2d47af-4a0d-40b2-84a5-01ae2e1ab5da",
        "colab": {
          "base_uri": "https://localhost:8080/",
          "height": 199
        }
      },
      "source": [
        "# one layer\n",
        "w = torch.randn((flat_imgs.shape[1], 1), requires_grad=True)\n",
        "b = torch.randn((1, 1), requires_grad=True)\n",
        "plot1 = []\n",
        "\n",
        "for i in range(2000):\n",
        "  pred = simple_nn(flat_imgs, w, b)\n",
        "  loss = error(pred, target.unsqueeze(1))\n",
        "  loss.backward()\n",
        "\n",
        "  w.data -= 0.01*w.grad.data\n",
        "  b.data -= 0.01*b.grad.data\n",
        " \n",
        "  w.grad.zero_()\n",
        "  b.grad.zero_()\n",
        "  \n",
        "  if i%200 == 0:\n",
        "    plot1.append(loss.item())\n",
        "    print(\"Loss: \", loss.item())"
      ],
      "execution_count": 75,
      "outputs": [
        {
          "output_type": "stream",
          "text": [
            "Loss:  2.4538018703460693\n",
            "Loss:  2.429169178009033\n",
            "Loss:  2.379192590713501\n",
            "Loss:  2.26164174079895\n",
            "Loss:  1.8552180528640747\n",
            "Loss:  0.7870759963989258\n",
            "Loss:  0.5978202223777771\n",
            "Loss:  0.5564789772033691\n",
            "Loss:  0.5387692451477051\n",
            "Loss:  0.5292753577232361\n"
          ],
          "name": "stdout"
        }
      ]
    },
    {
      "cell_type": "code",
      "metadata": {
        "id": "94p5hHkKy1EG",
        "outputId": "a3b922a0-7683-417f-e2e6-3e4bd9feffd5",
        "colab": {
          "base_uri": "https://localhost:8080/",
          "height": 374
        }
      },
      "source": [
        "plt.figure(figsize=(8,6))\n",
        "plt.plot(plot, 'r')\n",
        "plt.plot(plot1, 'b')\n",
        "plt.legend(['2-layer NN', 'single-layer NN'])\n",
        "plt.ylim(bottom=0.3)\n",
        "plt.ylabel('Loss')\n",
        "plt.show()"
      ],
      "execution_count": 76,
      "outputs": [
        {
          "output_type": "display_data",
          "data": {
            "image/png": "[encoded data removed]",
            "text/plain": [
              "<Figure size 576x432 with 1 Axes>"
            ]
          },
          "metadata": {
            "tags": [],
            "needs_background": "light"
          }
        }
      ]
    },
    {
      "cell_type": "code",
      "metadata": {
        "id": "YNBVe7q0zUTW"
      },
      "source": [
        ""
      ],
      "execution_count": 76,
      "outputs": []
    }
  ]
}
