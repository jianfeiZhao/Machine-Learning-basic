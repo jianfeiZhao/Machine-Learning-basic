{
 "cells": [
  {
   "cell_type": "code",
   "execution_count": 2,
   "metadata": {},
   "outputs": [
    {
     "data": {
      "text/plain": "<Figure size 640x480 with 1 Axes>"
     },
     "metadata": {},
     "output_type": "display_data"
    }
   ],
   "source": [
    "import numpy as np\n",
    "from sklearn import neighbors, datasets\n",
    "from sklearn.model_selection import train_test_split\n",
    "from matplotlib import pyplot as plt \n",
    "from matplotlib.colors import ListedColormap\n",
    "\n",
    "cmap_bold = ListedColormap(['darkorange', 'c'])\n",
    "\n",
    "# The Iris flower data set consists of 50 samples from each of three species of Iris \n",
    "# (1) Iris setosa, \n",
    "# (2) Iris virginica,\n",
    "# (3) Iris versicolor. \n",
    "#\n",
    "# Four features were measured from each sample: \n",
    "# (1) length of the sepals (cm)\n",
    "# (2) length of the petals (cm)\n",
    "# (3) width of the sepals  (cm)\n",
    "# (4) width of the petals  (cm)\n",
    "#\n",
    "# We will use on two features because it is easy to visualize 2-dimensional data.\n",
    "# Problem Statement:\n",
    "# Based on the combination of these four features, we need to build perceptron classifier\n",
    "\n",
    "iris = datasets.load_iris()\n",
    "X = iris.data[:, :2]\n",
    "Y = iris.target\n",
    "indices = Y!=2\n",
    "X,Y = X[indices,:], Y[indices]\n",
    "Y[Y==0] = -1\n",
    "\n",
    "# Lets visualize the data\n",
    "plt.figure()\n",
    "plt.scatter(X[:, 0], X[:, 1], c=Y, cmap=cmap_bold, edgecolor='k', s=100)\n",
    "plt.xlim(X[:,0].min() - 1, X[:,0].max() + 1)\n",
    "plt.ylim(X[:,1].min() - 1, X[:,1].max() + 1)\n",
    "plt.show()\n",
    "\n",
    "# get rid of the biases and stuff......\n",
    "X = X - np.mean(X,axis=0)"
   ]
  },
  {
   "cell_type": "code",
   "execution_count": 3,
   "metadata": {},
   "outputs": [],
   "source": [
    "# split data into training (80%) and testing (20%)\n",
    "X_train, X_test, Y_train, Y_test = train_test_split(X, Y, test_size=0.20, random_state=42)"
   ]
  },
  {
   "cell_type": "code",
   "execution_count": 16,
   "metadata": {},
   "outputs": [
    {
     "name": "stdout",
     "output_type": "stream",
     "text": "Epoch: 0, Test Accuracy: 1.0\nEpoch: 100, Test Accuracy: 1.0\nEpoch: 200, Test Accuracy: 1.0\nEpoch: 300, Test Accuracy: 1.0\nEpoch: 400, Test Accuracy: 1.0\nEpoch: 500, Test Accuracy: 1.0\nEpoch: 600, Test Accuracy: 1.0\nEpoch: 700, Test Accuracy: 1.0\nEpoch: 800, Test Accuracy: 1.0\nEpoch: 900, Test Accuracy: 1.0\n"
    }
   ],
   "source": [
    "#initialize Weights to zero values\n",
    "W = np.zeros((2,1))\n",
    "# set some learning rate for gradient descent\n",
    "lr = 0.1\n",
    "\n",
    "for epoch in range(1000):\n",
    "    for idx in range(len(X_train)): \n",
    "        # update weights if the prediction is wrong \n",
    "        if Y_train[idx]*X_train[idx,:].reshape(1,-1)@W <= 0:\n",
    "            # update weights if the point is incorrectly classified\n",
    "            # W(t+1) = W(t) + lr * y_i*x_i\n",
    "            W = W + (lr)*Y_train[idx]*X_train[idx,:].reshape(-1,1)\n",
    "    \n",
    "    if epoch % 100 == 0:\n",
    "        # print accruacy on test data\n",
    "        # keep a track of everything happening here.. . . .\n",
    "        Y_test_pred = (X_test@W).reshape(-1)\n",
    "        Y_test_pred[Y_test_pred < 0] = -1\n",
    "        Y_test_pred[Y_test_pred >= 0] = 1\n",
    "        \n",
    "        acc = np.mean(Y_test == Y_test_pred)\n",
    "        print(f\"Epoch: {epoch}, Test Accuracy: {acc}\")"
   ]
  },
  {
   "cell_type": "code",
   "execution_count": 5,
   "metadata": {},
   "outputs": [
    {
     "data": {
      "image/png": "[encoded data removed]",
      "text/plain": [
       "<Figure size 432x288 with 1 Axes>"
      ]
     },
     "metadata": {
      "needs_background": "light"
     },
     "output_type": "display_data"
    }
   ],
   "source": [
    "# Plot the decision boundary. For that, we will assign a color to each point in the mesh [x_min, x_max]x[y_min, y_max].\n",
    "h = 0.1\n",
    "cmap_light = ListedColormap(['orange', 'cyan'])\n",
    "cmap_bold = ListedColormap(['darkorange', 'c'])\n",
    "\n",
    "x_min, x_max = X_test[:, 0].min() - 1, X_test[:, 0].max() + 1\n",
    "y_min, y_max = X_test[:, 1].min() - 1, X_test[:, 1].max() + 1\n",
    "xx, yy = np.meshgrid(np.arange(x_min, x_max, h),\n",
    "                     np.arange(y_min, y_max, h))\n",
    "\n",
    "Z = np.c_[xx.ravel(), yy.ravel()]\n",
    "Z = Z@W\n",
    "Z[Z<0] = -1\n",
    "Z[Z>=0] = 1\n",
    "\n",
    "# Put the result into a color plot\n",
    "Z = Z.reshape(xx.shape)\n",
    "\n",
    "plt.figure()\n",
    "plt.pcolormesh(xx, yy, Z, cmap=cmap_light)\n",
    "    \n",
    "# Plot also the training points\n",
    "plt.scatter(X[:, 0], X[:, 1], c=Y, cmap=cmap_bold, edgecolor='k', s=100)\n",
    "plt.xlim(xx.min(), xx.max())\n",
    "plt.ylim(yy.min(), yy.max())\n",
    "\n",
    "plt.show()"
   ]
  },
  {
   "cell_type": "code",
   "execution_count": null,
   "metadata": {},
   "outputs": [],
   "source": []
  }
 ],
 "metadata": {
  "kernelspec": {
   "display_name": "Python 3",
   "language": "python",
   "name": "python3"
  },
  "language_info": {
   "codemirror_mode": {
    "name": "ipython",
    "version": 3
   },
   "file_extension": ".py",
   "mimetype": "text/x-python",
   "name": "python",
   "nbconvert_exporter": "python",
   "pygments_lexer": "ipython3",
   "version": "3.7.1-final"
  }
 },
 "nbformat": 4,
 "nbformat_minor": 2
}
